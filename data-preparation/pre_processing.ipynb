{
 "cells": [
  {
   "cell_type": "code",
   "execution_count": 1,
   "id": "3a1c30b0-0fe5-4859-a207-ef983e2e7244",
   "metadata": {},
   "outputs": [],
   "source": [
    "import fiona \n",
    "from shapely.geometry import shape, Polygon, mapping\n",
    "import math"
   ]
  },
  {
   "cell_type": "markdown",
   "id": "420e0e26-0af5-47bd-bcfb-e4504ae3f3a3",
   "metadata": {},
   "source": [
    "### Removing unwanted vertices\n",
    "\n",
    "This next segment takes a shapefile, goes through each of the contained polygons and removes intermediate vertices that do not represent a corner point."
   ]
  },
  {
   "cell_type": "code",
   "execution_count": 3,
   "id": "e20274ba-8add-4bc0-9529-7de151f9f379",
   "metadata": {},
   "outputs": [],
   "source": [
    "shape_path = r'data/buildings_20k.shp'\n",
    "\n",
    "def azimuth(point1, point2):\n",
    "   '''Azimuth between 2 shapely points. each point is expected to be a list or tuple of (x, y)'''\n",
    "   angle = math.atan2(point2[0] - point1[0], point2[1] - point1[1])\n",
    "   return math.degrees(angle)if angle>0 else math.degrees(angle) + 180\n",
    "\n",
    "cleaned_polygons = []\n",
    "\n",
    "with fiona.open(shape_path, 'r') as src:\n",
    "    for feature in src:\n",
    "        footprint = shape(feature['geometry'])\n",
    "\n",
    "        previous_angle = None\n",
    "        polygon_sequence = []\n",
    "        for previous, current in zip(footprint.exterior.coords, footprint.exterior.coords[1:]):\n",
    "\n",
    "            angle = azimuth(previous, current)\n",
    "            if previous_angle:\n",
    "                if abs(previous_angle - angle) < 10:\n",
    "                    continue\n",
    "\n",
    "            polygon_sequence += [previous]\n",
    "            previous_angle = angle\n",
    "\n",
    "        cleaned_polygons.append(Polygon(polygon_sequence))\n",
    "\n",
    "schema = {'geometry': 'Polygon', 'properties': {}}\n",
    "shape_out = \"buildings_20k_cleaned.shp\"\n",
    "with fiona.open(shape_out, 'w', crs='epsg:4326', driver='ESRI Shapefile', schema=schema) as output:\n",
    "    for poly in cleaned_polygons:\n",
    "        output.write({'geometry': mapping(poly)})  \n",
    "\n"
   ]
  },
  {
   "cell_type": "markdown",
   "id": "61af4dff-8595-49e2-bb4b-b761dbc0b258",
   "metadata": {},
   "source": [
    "### Equalize vertex count on all polygons"
   ]
  },
  {
   "cell_type": "code",
   "execution_count": 28,
   "id": "7c87250f-d286-4860-8423-d8b805ff73d9",
   "metadata": {},
   "outputs": [],
   "source": [
    "from shapely.geometry import Polygon, LineString\n",
    "import geopandas as gpd\n",
    "import numpy as np\n",
    "\n",
    "from shapely.geometry import LineString\n",
    "\n",
    "def interpolate_vertices(polygon, num_vertices):\n",
    "    new_coords = []\n",
    "    num_edges = len(polygon.exterior.coords) - 1\n",
    "    vertices_per_edge, leftover_vertices = divmod(num_vertices, num_edges)\n",
    "\n",
    "    # keep first node\n",
    "    new_coords.append(polygon.exterior.coords[0])\n",
    "\n",
    "    # iterate all edges\n",
    "    for i in range(num_edges):\n",
    "        start = polygon.exterior.coords[i]\n",
    "        end = polygon.exterior.coords[i + 1]\n",
    "        line = LineString([start, end])\n",
    "        \n",
    "        num_interpolated_vertices = vertices_per_edge\n",
    "        # consume any leftover vertices if there are any\n",
    "        if leftover_vertices > 0:\n",
    "            num_interpolated_vertices += 1\n",
    "            leftover_vertices -= 1\n",
    "\n",
    "        # calculate interpolation distance between points\n",
    "        total_length = line.length\n",
    "        segment_length = total_length / (num_interpolated_vertices + 1)\n",
    "\n",
    "        # interpolate points along line\n",
    "        interpolated_points = []\n",
    "        for i in range(1, num_interpolated_vertices + 1):\n",
    "            distance_along_line = segment_length * i\n",
    "            point = line.interpolate(distance_along_line)\n",
    "            interpolated_points.append(point)\n",
    "\n",
    "        new_coords.extend(interpolated_points)\n",
    "        new_coords.append(end)\n",
    "\n",
    "    return Polygon(new_coords)\n",
    "\n",
    "# Load the shapefile\n",
    "data = gpd.read_file('buildings_20k_cleaned.shp')\n",
    "\n",
    "# Iterate over each polygon\n",
    "for index, row in data.iterrows():\n",
    "    polygon = row['geometry']\n",
    "    num_vertices_to_add = 64 - len(polygon.exterior.coords)\n",
    "\n",
    "    if num_vertices_to_add > 0:\n",
    "        new_polygon = interpolate_vertices(polygon, num_vertices_to_add)\n",
    "        data.at[index, 'geometry'] = new_polygon\n",
    "\n",
    "        \n",
    "# Save the modified shapefile\n",
    "data.to_file('buildings_20k_interpolated.shp')"
   ]
  },
  {
   "cell_type": "code",
   "execution_count": null,
   "id": "df21f6af-8f8a-4421-99e8-115fbc31b903",
   "metadata": {},
   "outputs": [],
   "source": []
  }
 ],
 "metadata": {
  "kernelspec": {
   "display_name": "Python 3 (ipykernel)",
   "language": "python",
   "name": "python3"
  },
  "language_info": {
   "codemirror_mode": {
    "name": "ipython",
    "version": 3
   },
   "file_extension": ".py",
   "mimetype": "text/x-python",
   "name": "python",
   "nbconvert_exporter": "python",
   "pygments_lexer": "ipython3",
   "version": "3.10.6"
  }
 },
 "nbformat": 4,
 "nbformat_minor": 5
}
