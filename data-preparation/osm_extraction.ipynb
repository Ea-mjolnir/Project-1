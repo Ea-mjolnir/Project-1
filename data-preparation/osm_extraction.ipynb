{
 "cells": [
  {
   "cell_type": "code",
   "execution_count": null,
   "id": "4bc778e6-49fd-4c5e-bbc1-f5469f1c54a0",
   "metadata": {
    "is_executing": true
   },
   "outputs": [],
   "source": [
    "import overpy\n",
    "import fiona\n",
    "from fiona.crs import from_epsg\n",
    "from pyproj import Geod\n",
    "from shapely.geometry import Polygon, mapping\n"
   ]
  },
  {
   "attachments": {},
   "cell_type": "markdown",
   "id": "1b6ddb40-d359-4a3b-97d0-2fd5302e4815",
   "metadata": {},
   "source": [
    "### Download building footprints from OSM"
   ]
  },
  {
   "cell_type": "code",
   "execution_count": 2,
   "id": "91906f66-73bf-47a0-b92b-806ad37a9fc3",
   "metadata": {},
   "outputs": [],
   "source": [
    "api = overpy.Overpass()\n",
    "\n",
    "def query(bbox, limit=100):\n",
    "    result = api.query(\n",
    "        f\"\"\"\n",
    "            way[\"building\"]({','.join(map(str, bbox))});\n",
    "            out geom {limit};\n",
    "        \"\"\")\n",
    "    return result"
   ]
  },
  {
   "cell_type": "code",
   "execution_count": 24,
   "id": "8542e155-1cde-481b-abdc-26edea7032e7",
   "metadata": {},
   "outputs": [
    {
     "name": "stdout",
     "output_type": "stream",
     "text": [
      "500 buildings fetched from OSM\n"
     ]
    }
   ],
   "source": [
    "BBOX_BERLIN = (52.368053,13.103943,52.653895,13.686218) # test with bounding box of Berlin\n",
    "\n",
    "all_buildings = query(bbox=BBOX_BERLIN, limit=500)\n",
    "print(f'{len(all_buildings.ways)} buildings fetched from OSM')"
   ]
  },
  {
   "attachments": {},
   "cell_type": "markdown",
   "id": "68a544d4-4d7c-4cb9-844b-478904e600df",
   "metadata": {},
   "source": [
    "### Prepare dataset"
   ]
  },
  {
   "cell_type": "code",
   "execution_count": 35,
   "id": "f1765f9a-9a8f-4555-9f2a-f4eb3a6c0582",
   "metadata": {},
   "outputs": [
    {
     "name": "stdout",
     "output_type": "stream",
     "text": [
      "116 buildings after filtering\n"
     ]
    }
   ],
   "source": [
    "from shapely import box\n",
    "\n",
    "filtered_buildings = []\n",
    "geod = Geod(ellps=\"WGS84\")\n",
    "\n",
    "for way in all_buildings.ways:\n",
    "    poly = Polygon([(float(node.lon), float(node.lat)) for node in way.get_nodes(resolve_missing=True)])\n",
    "    bounds = box(*poly.bounds)\n",
    "    bounds_area, bounds_perimeter = geod.geometry_area_perimeter(bounds)\n",
    "\n",
    "    bounds_area = abs(bounds_area) # take absolute value as polygon area can be negative if polygon is not-ccw\n",
    "\n",
    "    # this gets rid of buildings with square area below 250m2 or above 500m2 to get more similar data\n",
    "    # we should replace this with a better measure perhaps\n",
    "    if bounds_area > 500 or bounds_area < 250: \n",
    "        continue\n",
    "\n",
    "    filtered_buildings.append(poly)\n",
    "\n",
    "print(f'{len(filtered_buildings)} buildings after filtering')"
   ]
  },
  {
   "attachments": {},
   "cell_type": "markdown",
   "id": "1f092cd2-ba67-460b-a478-7c272597b28a",
   "metadata": {},
   "source": [
    "### Export data to shapefile"
   ]
  },
  {
   "attachments": {},
   "cell_type": "markdown",
   "id": "be53ae27",
   "metadata": {},
   "source": [
    "This exports the previously collected geometries to a shapefile using fiona. The shapefile will be created in the current directory."
   ]
  },
  {
   "cell_type": "code",
   "execution_count": 32,
   "id": "62780452-f8a2-4c55-93bf-6336eaada757",
   "metadata": {},
   "outputs": [],
   "source": [
    "schema = {'geometry': 'Polygon', 'properties': {}}\n",
    "shape_out = \"buildings.shp\"\n",
    "with fiona.open(shape_out, 'w', crs='epsg:4326', driver='ESRI Shapefile', schema=schema) as output:\n",
    "    for poly in filtered_buildings:\n",
    "        output.write({'geometry': mapping(poly)})  "
   ]
  },
  {
   "cell_type": "code",
   "execution_count": null,
   "id": "67aa7121-1eeb-40ef-b65b-5b928a2e1209",
   "metadata": {},
   "outputs": [],
   "source": []
  }
 ],
 "metadata": {
  "kernelspec": {
   "display_name": "Python 3 (ipykernel)",
   "language": "python",
   "name": "python3"
  },
  "language_info": {
   "codemirror_mode": {
    "name": "ipython",
    "version": 3
   },
   "file_extension": ".py",
   "mimetype": "text/x-python",
   "name": "python",
   "nbconvert_exporter": "python",
   "pygments_lexer": "ipython3",
   "version": "3.10.6"
  }
 },
 "nbformat": 4,
 "nbformat_minor": 5
}
