{
 "cells": [
  {
   "cell_type": "code",
   "execution_count": 26,
   "metadata": {},
   "outputs": [
    {
     "name": "stdout",
     "output_type": "stream",
     "text": [
      "File exists\n"
     ]
    }
   ],
   "source": [
    "import fiona\n",
    "from shapely.geometry import shape, Point\n",
    "import os\n",
    "\n",
    "file_path = '/home/mjolnir/Documents/python projects/20k_ building folder/buildings_20k_cleaned.shp'\n",
    "if os.path.isfile(file_path):\n",
    "    print(\"File exists\")\n",
    "else:\n",
    "    print(\"File does not exist\")\n",
    "\n",
    "def remove_perfect_shapes(shapefile_path, output_shapefile_path):\n",
    "    # Open the input shapefile\n",
    "    with fiona.open(shapefile_path, \"r\") as input_shapefile:\n",
    "        crs = input_shapefile.crs\n",
    "        schema = input_shapefile.schema\n",
    "        polygon_records = list(input_shapefile)\n",
    "\n",
    "        # Create a new shapefile for writing\n",
    "        with fiona.open(output_shapefile_path, \"w\", crs=crs, driver=\"ESRI Shapefile\", schema=schema) as output_shapefile:\n",
    "            # Iterate over each polygon feature\n",
    "            for polygon in polygon_records:\n",
    "                geometry = shape(polygon['geometry'])\n",
    "                if geometry.geom_type == \"Polygon\" and len(geometry.exterior.coords) == 4:\n",
    "                   sides = [Point(geometry.exterior.coords[i]).distance(Point(geometry.exterior.coords[(i + 1)%4]))\n",
    "                            for i in range(len(geometry.exterior.coords))]\n",
    "                   equal_sides = 0\n",
    "                   for i in range(len(sides)):\n",
    "                        for j in range(i + 1, len(sides)):\n",
    "                            if sides[i] == sides[j]:\n",
    "                                equal_sides += 1\n",
    "                   if equal_sides <= 4:\n",
    "                        output_shapefile.write(polygon)\n",
    "\n",
    "# Provide the input and output shapefile paths\n",
    "shapefile_path = '/home/mjolnir/Documents/python projects/20k_ building folder/buildings_20k_cleaned.shp'\n",
    "output_shapefile_path = '/home/mjolnir/Documents/python projects/20k_ building folder/20k_edited_shapefile.shp'\n",
    "\n",
    "\n",
    "# Call the function to remove perfect shapes\n",
    "remove_perfect_shapes(shapefile_path, output_shapefile_path)\n"
   ]
  }
 ],
 "metadata": {
  "kernelspec": {
   "display_name": "Python 3",
   "language": "python",
   "name": "python3"
  },
  "language_info": {
   "codemirror_mode": {
    "name": "ipython",
    "version": 3
   },
   "file_extension": ".py",
   "mimetype": "text/x-python",
   "name": "python",
   "nbconvert_exporter": "python",
   "pygments_lexer": "ipython3",
   "version": "3.11.2"
  },
  "orig_nbformat": 4
 },
 "nbformat": 4,
 "nbformat_minor": 2
}
