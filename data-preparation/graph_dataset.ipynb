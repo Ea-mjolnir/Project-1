{
 "cells": [
  {
   "cell_type": "code",
   "execution_count": 23,
   "id": "2ae13359-a900-4a5c-8600-3ffd08c47c59",
   "metadata": {},
   "outputs": [],
   "source": [
    "import geopandas as gpd\n",
    "import pandas as pd\n",
    "import torch\n",
    "from torch_geometric.data import Dataset, Data\n",
    "from torch_geometric.loader import DataLoader\n",
    "from torch_geometric.utils import to_networkx\n",
    "import torch_geometric.utils as tgutils\n",
    "\n",
    "import pyproj\n",
    "import networkx as nx\n",
    "import matplotlib.pyplot as plt\n",
    "import numpy as np"
   ]
  },
  {
   "cell_type": "markdown",
   "id": "bbf72292-0a09-4cad-8524-5c1d4455d32b",
   "metadata": {},
   "source": [
    "### Create a Dataset\n",
    "\n",
    "this will create a custom pytorch dataset, which converts each building polygon to a graph structure on-the-fly when requested from the data loader"
   ]
  },
  {
   "cell_type": "code",
   "execution_count": 27,
   "id": "0de2f639-72d2-4734-906a-5a9e6a2dc48c",
   "metadata": {},
   "outputs": [],
   "source": [
    "class BuildingFootprintsDataset(Dataset):\n",
    "    def __init__(self, csv_path, transform=None, pre_transform=None):\n",
    "        super(BuildingFootprintsDataset, self).__init__(transform, pre_transform)\n",
    "        self.data_df = pd.read_csv(csv_path)\n",
    "        self.proj = pyproj.Transformer.from_crs(4326, 3857)\n",
    "\n",
    "    def len(self):\n",
    "        return len(self.data_df['PolygonID'].unique())\n",
    "\n",
    "    def get(self, idx):\n",
    "        # Extract polygon vertices from csv (grouped by polygon id)\n",
    "        polygon_id = self.data_df['PolygonID'].unique()[idx]\n",
    "        vertices_df = self.data_df[self.data_df['PolygonID'] == polygon_id]\n",
    "\n",
    "        # Sort vertices based on direction_sort column\n",
    "        vertices_df = vertices_df.sort_values(by='direction_sort')\n",
    "\n",
    "        # Convest lat-lon crs in degrees to a crs with meter unit\n",
    "        vertices_df['coord_meter'] = vertices_df[['X', 'Y']].apply(lambda p: self.proj.transform(p.X, p.Y), axis=1)\n",
    "        vertices_df[['X_meter','Y_meter']] = vertices_df['coord_meter'].apply(lambda p: pd.Series(np.array([p[0], p[1]]), index=[\"X_meter\", \"Y_meter\"]))\n",
    "\n",
    "        # For each polygon, translate its origin(0,0) to its centroid\n",
    "        cen_X = vertices_df['X_meter'].mean()\n",
    "        cen_Y = vertices_df['Y_meter'].mean()\n",
    "        vertices_df['X_local'] = vertices_df['X_meter'].apply(lambda x: x-cen_X)\n",
    "        vertices_df['Y_local'] = vertices_df['Y_meter'].apply(lambda y: y-cen_Y)\n",
    "\n",
    "        vertices = vertices_df[['X_local','Y_local']].values\n",
    "        labels = vertices_df['is_corner'].values\n",
    "\n",
    "        # Create nodes and labels tensor\n",
    "        node_features = torch.tensor(vertices, dtype=torch.float32) # use dtype=torch.float64 for increased precision\n",
    "        labels = torch.tensor(labels, dtype=torch.long) # has to be dtype=torch.long for some reason\n",
    "\n",
    "        # Create edges\n",
    "        num_vertices = len(vertices)\n",
    "        edge_indices = []\n",
    "        for i in range(num_vertices):\n",
    "            edge_indices.append([i, (i + 1) % num_vertices])  # Connect neighboring vertices\n",
    "            edge_indices.append([(i + 1) % num_vertices, i])  # Add reverse direction, to get an undirected graph\n",
    "        edge_indices = torch.tensor(edge_indices, dtype=torch.long).t().contiguous()\n",
    "\n",
    "        # create graph structure\n",
    "        data = Data(x=node_features, edge_index=edge_indices, y=labels)\n",
    "\n",
    "        return data"
   ]
  },
  {
   "cell_type": "markdown",
   "id": "122c90d4-2486-42cb-987f-309f0a12a70c",
   "metadata": {},
   "source": [
    "### Using the dataset"
   ]
  },
  {
   "cell_type": "code",
   "execution_count": 28,
   "id": "68f131ba-470d-4d41-8197-fa7b28f8591c",
   "metadata": {},
   "outputs": [],
   "source": [
    "dataset = BuildingFootprintsDataset('data/building_data.csv')\n",
    "\n",
    "# Create a data loader for batching and shuffling\n",
    "# from here on training process should be similar to 'classic' pytorch approach\n",
    "loader = DataLoader(dataset, batch_size=32, shuffle=True)"
   ]
  },
  {
   "cell_type": "markdown",
   "id": "01ce46d5-8d31-4202-8496-ddd5e48e9d86",
   "metadata": {},
   "source": [
    "### Plot sample from dataset"
   ]
  },
  {
   "cell_type": "code",
   "execution_count": 51,
   "id": "78d592f8-f95f-4e30-aaed-2b7abd385530",
   "metadata": {},
   "outputs": [
    {
     "name": "stdout",
     "output_type": "stream",
     "text": [
      "28\n",
      "False\n"
     ]
    },
    {
     "data": {
      "image/png": "[encoded data removed]",
      "text/plain": [
       "<Figure size 500x400 with 1 Axes>"
      ]
     },
     "metadata": {},
     "output_type": "display_data"
    }
   ],
   "source": [
    "# take random dataset\n",
    "data = dataset[125]\n",
    "\n",
    "print(data.num_nodes)\n",
    "print(data.is_directed())\n",
    "\n",
    "pos = {}\n",
    "for i, coords in enumerate(data.x.numpy()):\n",
    "    pos[i] = (coords[0], coords[1])\n",
    "\n",
    "# convert to networkx graph\n",
    "g = to_networkx(data, to_undirected=True)\n",
    "\n",
    "# plot networkx graph\n",
    "fig, ax = plt.subplots(figsize=(5,4))\n",
    "nx.draw(g, pos, node_size=100, node_color=data.y, cmap='copper')\n",
    "plt.axis(\"on\")\n",
    "ax.tick_params(left=True, bottom=True, labelleft=True, labelbottom=True)\n",
    "plt.show()"
   ]
  },
  {
   "cell_type": "code",
   "execution_count": null,
   "id": "f77f6792-2a6a-41a7-86d9-b955416b1c66",
   "metadata": {},
   "outputs": [],
   "source": []
  },
  {
   "cell_type": "code",
   "execution_count": null,
   "id": "58f0b667-d037-4737-933f-c8558699bbca",
   "metadata": {},
   "outputs": [],
   "source": []
  }
 ],
 "metadata": {
  "kernelspec": {
   "display_name": "Python 3 (ipykernel)",
   "language": "python",
   "name": "python3"
  },
  "language_info": {
   "codemirror_mode": {
    "name": "ipython",
    "version": 3
   },
   "file_extension": ".py",
   "mimetype": "text/x-python",
   "name": "python",
   "nbconvert_exporter": "python",
   "pygments_lexer": "ipython3",
   "version": "3.10.6"
  }
 },
 "nbformat": 4,
 "nbformat_minor": 5
}
